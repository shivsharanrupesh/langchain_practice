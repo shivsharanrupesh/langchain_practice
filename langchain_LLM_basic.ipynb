{
 "cells": [
  {
   "cell_type": "markdown",
   "id": "cc0263df",
   "metadata": {},
   "source": [
    "## Basic Langchain_LLM using OpenAI token"
   ]
  },
  {
   "cell_type": "code",
   "execution_count": null,
   "id": "e94aa3df",
   "metadata": {},
   "outputs": [],
   "source": [
    "import os\n",
    "from langchain.llms import OpenAI\n",
    "from langchain.agents import load_tools \n",
    "from langchain.agents import initialize_agent\n",
    "from langchain.agents import AgentType\n",
    "from constant import openai_key\n",
    "os.environ[\"OPENAI_API_KEY\"] = openai_key\n",
    "\n",
    "\n",
    "tools = load_tools([\"python_repl\"])\n",
    "responses = [\"Action:Python_REPL\\n Action Input: print(2+2)\", \"Final Answer: 4\"]\n",
    "\n",
    "llm = OpenAI(temperature=0.8, model=\"text-davinci-003\")\n",
    "\n",
    "agent = initialize_agent(tools, llm, agent=AgentType.ZERO_SHOT_REACT_DESCRIPTION, verbose=True)\n",
    "agent.run(\"whats 2 + 2\")\n"
   ]
  },
  {
   "cell_type": "markdown",
   "id": "754ca909",
   "metadata": {},
   "source": [
    "## Basic Langchain_LLM using Hugging_face token"
   ]
  },
  {
   "cell_type": "code",
   "execution_count": 3,
   "id": "6b1af20f",
   "metadata": {},
   "outputs": [
    {
     "name": "stderr",
     "output_type": "stream",
     "text": [
      "/Users/rupeshshivsharan/opt/anaconda3/lib/python3.9/site-packages/huggingface_hub/utils/_deprecation.py:131: FutureWarning: 'InferenceApi' (from 'huggingface_hub.inference_api') is deprecated and will be removed from version '1.0'. `InferenceApi` client is deprecated in favor of the more feature-complete `InferenceClient`. Check out this guide to learn how to convert your script to use it: https://huggingface.co/docs/huggingface_hub/guides/inference#legacy-inferenceapi-client.\n",
      "  warnings.warn(warning_message, FutureWarning)\n"
     ]
    },
    {
     "name": "stdout",
     "output_type": "stream",
     "text": [
      "japan\n"
     ]
    }
   ],
   "source": [
    "import os\n",
    "from langchain.llms import HuggingFaceHub\n",
    "from constant import hugg_face\n",
    "os.environ[\"HUGGINGFACEHUB_API_TOKEN\"] = hugg_face\n",
    "\n",
    "llm = HuggingFaceHub(model_kwargs={\"temperature\":0.5, \"max_length\":64}, repo_id=\"google/flan-t5-xxl\")\n",
    "prompt = \"in which country is Tokyo\"\n",
    "competion = llm(prompt)\n",
    "print(competion)"
   ]
  },
  {
   "cell_type": "code",
   "execution_count": null,
   "id": "13f3ea7e",
   "metadata": {},
   "outputs": [],
   "source": []
  }
 ],
 "metadata": {
  "kernelspec": {
   "display_name": "Python 3 (ipykernel)",
   "language": "python",
   "name": "python3"
  },
  "language_info": {
   "codemirror_mode": {
    "name": "ipython",
    "version": 3
   },
   "file_extension": ".py",
   "mimetype": "text/x-python",
   "name": "python",
   "nbconvert_exporter": "python",
   "pygments_lexer": "ipython3",
   "version": "3.9.12"
  }
 },
 "nbformat": 4,
 "nbformat_minor": 5
}
